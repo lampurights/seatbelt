{
  "nbformat": 4,
  "nbformat_minor": 0,
  "metadata": {
    "colab": {
      "provenance": []
    },
    "kernelspec": {
      "name": "python3",
      "display_name": "Python 3"
    },
    "language_info": {
      "name": "python"
    }
  },
  "cells": [
    {
      "cell_type": "code",
      "execution_count": null,
      "metadata": {
        "id": "hpQuUwrvmnK5"
      },
      "outputs": [],
      "source": [
        "# Define the model with ResNet34 for seat belt detection\n",
        "class SeatBeltDetectionModel(nn.Module):\n",
        "    def init(self, num_classes=2, dropout_prob=0.5):\n",
        "        super(SeatBeltDetectionModel, self).init()\n",
        "        self.resnet = models.resnet34(weights='DEFAULT')\n",
        "\n",
        "        for param in self.resnet.layer1.parameters():\n",
        "            param.requires_grad = False\n",
        "        for param in self.resnet.layer2.parameters():\n",
        "            param.requires_grad = False\n",
        "\n",
        "\n",
        "\n",
        "\n",
        "        self.resnet.fc = nn.Sequential(\n",
        "            nn.Dropout(dropout_prob),                       # Dropout layer\n",
        "            nn.Linear(self.resnet.fc.in_features, num_classes)  # Final fully connected layer\n",
        "        )\n",
        "\n",
        "    def forward(self, x):\n",
        "        return self.resnet(x)"
      ]
    }
  ]
}